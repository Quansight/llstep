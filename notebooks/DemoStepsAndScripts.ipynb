{
 "cells": [
  {
   "cell_type": "code",
   "execution_count": 2,
   "metadata": {},
   "outputs": [
    {
     "name": "stdout",
     "output_type": "stream",
     "text": [
      "arg1 no keyword arg provided arg2 None\n",
      "1 2\n",
      "arg1 keyword arg provided arg2 this is the keyword arg\n",
      "1 2\n",
      "3\n"
     ]
    }
   ],
   "source": [
    "from llstep import Context, ContextKey, script, step, step_data\n",
    "\n",
    "\n",
    "One = step_data(int)\n",
    "Two = step_data(int, \"Here's a description for ya!\")\n",
    "\n",
    "    \n",
    "@step\n",
    "def step_one():\n",
    "    One = 1\n",
    "\n",
    "    \n",
    "@step\n",
    "def step_two():\n",
    "    Two = 2\n",
    "    \n",
    "    \n",
    "@step\n",
    "def step_with_args(arg1, arg2=None):\n",
    "    print(\"arg1\", arg1, \"arg2\", arg2)\n",
    "    print(One, Two)\n",
    "    step_one()\n",
    "    \n",
    "    \n",
    "@script\n",
    "def my_script():\n",
    "    # context = Context()\n",
    "    step_one()\n",
    "    #step_one(context)\n",
    "    step_two()\n",
    "    step_with_args(\"no keyword arg provided\")\n",
    "    step_with_args(\"keyword arg provided\", arg2=\"this is the keyword arg\")\n",
    "    One = 3\n",
    "    print(One)\n",
    "    \n",
    "my_script()"
   ]
  },
  {
   "cell_type": "code",
   "execution_count": 1,
   "metadata": {},
   "outputs": [
    {
     "ename": "NameError",
     "evalue": "name 'context_key' is not defined",
     "output_type": "error",
     "traceback": [
      "\u001b[0;31m---------------------------------------------------------------------------\u001b[0m",
      "\u001b[0;31mNameError\u001b[0m                                 Traceback (most recent call last)",
      "\u001b[0;32m<ipython-input-1-897a81d81fdd>\u001b[0m in \u001b[0;36m<module>\u001b[0;34m\u001b[0m\n\u001b[0;32m----> 1\u001b[0;31m \u001b[0mmonthly_rates\u001b[0m \u001b[0;34m=\u001b[0m \u001b[0mcontext_key\u001b[0m\u001b[0;34m(\u001b[0m\u001b[0;34m\"monthly_rates\"\u001b[0m\u001b[0;34m,\u001b[0m \u001b[0mTimeSeries\u001b[0m\u001b[0;34m[\u001b[0m\u001b[0mfloat\u001b[0m\u001b[0;34m]\u001b[0m\u001b[0;34m)\u001b[0m\u001b[0;34m\u001b[0m\u001b[0;34m\u001b[0m\u001b[0m\n\u001b[0m\u001b[1;32m      2\u001b[0m \u001b[0;34m\u001b[0m\u001b[0m\n\u001b[1;32m      3\u001b[0m \u001b[0;34m@\u001b[0m\u001b[0mstep\u001b[0m\u001b[0;34m\u001b[0m\u001b[0;34m\u001b[0m\u001b[0m\n\u001b[1;32m      4\u001b[0m \u001b[0;32mdef\u001b[0m \u001b[0mnormalize_inputs\u001b[0m\u001b[0;34m(\u001b[0m\u001b[0mcontext\u001b[0m\u001b[0;34m:\u001b[0m \u001b[0mContext\u001b[0m\u001b[0;34m,\u001b[0m \u001b[0mrange_max\u001b[0m\u001b[0;34m:\u001b[0m \u001b[0mint\u001b[0m\u001b[0;34m,\u001b[0m \u001b[0mrange_min\u001b[0m\u001b[0;34m:\u001b[0m \u001b[0mint\u001b[0m\u001b[0;34m)\u001b[0m\u001b[0;34m:\u001b[0m\u001b[0;34m\u001b[0m\u001b[0;34m\u001b[0m\u001b[0m\n\u001b[1;32m      5\u001b[0m     \u001b[0mcontext\u001b[0m\u001b[0;34m\u001b[0m\u001b[0;34m\u001b[0m\u001b[0m\n",
      "\u001b[0;31mNameError\u001b[0m: name 'context_key' is not defined"
     ]
    }
   ],
   "source": [
    "monthly_rates = context_key(\"monthly_rates\", TimeSeries[float])\n",
    "\n",
    "@step\n",
    "def normalize_inputs(context: Context, range_max: int, range_min: int):\n",
    "    context\n",
    "    ..."
   ]
  },
  {
   "cell_type": "markdown",
   "metadata": {},
   "source": [
    "Next up, we'll add the use of type extension to add steps to Given, When, Then, And"
   ]
  },
  {
   "cell_type": "code",
   "execution_count": null,
   "metadata": {},
   "outputs": [],
   "source": [
    "from llstep.bdd import Examples, Feature, Scenario, Given, When, Then, And\n",
    "from llstep.bdd import http\n",
    "import my_http\n",
    "\n",
    "@Feature\n",
    "def A_simple_web_api():\n",
    "    \"\"\"\n",
    "    Describe the feature\n",
    "    \"\"\"\n",
    "    \n",
    "    @Scenario\n",
    "    def get_resource():\n",
    "        \"\"\"\n",
    "        Describe the scenario\n",
    "        \"\"\"\n",
    "        When.http.get(\"https://example.com/does-not-exist\")\n",
    "        Then.http.status_is(404)\n",
    "        \n",
    "    @ScenarioOutline\n",
    "    def get_resource_variations(url, expected_status):\n",
    "        When.http.get(url)\n",
    "        Then.http.status_is(expected_status)\n",
    "        Then.http.print_status()\n",
    "        \n",
    "        with Examples(\"Resources that exist\"):\n",
    "            yield \"https://foo.com/1\", 200\n",
    "            yield \"https://foo.com/2\", 200\n",
    "        \n",
    "        with Examples(\"Resources that are forbidden\"):\n",
    "            yield \"https://foo.com/3\", 403\n",
    "            yield \"https://foo.com/4\", 403\n",
    "            "
   ]
  },
  {
   "cell_type": "code",
   "execution_count": null,
   "metadata": {},
   "outputs": [],
   "source": [
    "from llstep.bdd import Feature, Scenario, Given, When, Then, And\n",
    "from llstep.bdd import http\n",
    "\n",
    "\n",
    "@Feature\n",
    "def A_simple_web_api():\n",
    "    \"\"\"\n",
    "    Big description\n",
    "    \"\"\"\n",
    "\n",
    "    with Scenario(\"Successful GET resource\", description=\"\"\" say stuff \"\"\"):\n",
    "        \"\"\"\n",
    "        Scenario doc\n",
    "        \"\"\"\n",
    "        When.http.get(\"https://example.com/does-not-exist\")\n",
    "        Then.http.status_is(404)\n",
    "        \n",
    "    with ScenarioOutline(\"HTTP GET variations\", url, expected_status):\n",
    "        a = \"Foo\"\n",
    "        When.http.get(url)\n",
    "        Then.http.status_is(expected_status)\n",
    "        Then.http.resouce_as_json.has_key(a)\n",
    "        \n",
    "        with Examples(\"Resources that exist\"):\n",
    "            yield \"https://foo.com/1\", 200\n",
    "            yield \"https://foo.com/2\", 200\n",
    "        \n",
    "        with Examples(\"Resources that are forbidden\"):\n",
    "            yield \"https://foo.com/3\", 403\n",
    "            yield \"https://foo.com/4\", 403\n",
    "            \n",
    "        @Examples\n",
    "        def sophisticated_examples():\n",
    "            # do some real python things\n",
    "            # then, do some yielding\n",
    "            for item in items:\n",
    "                yield item.key, item.value\n",
    "\n",
    "            "
   ]
  },
  {
   "cell_type": "code",
   "execution_count": null,
   "metadata": {},
   "outputs": [],
   "source": [
    "def foo():\n",
    "    1, 2\n",
    "    3, 4\n",
    "    \n",
    "foo()"
   ]
  },
  {
   "cell_type": "code",
   "execution_count": null,
   "metadata": {},
   "outputs": [],
   "source": [
    "#ogdl\n",
    "Feature \"A simple web API\"\n",
    "    Scenario \"Successful GET resource\"\n",
    "        description \"Scenario documentation\"\n",
    "        When http GET \"/https://example.com/does-not-exist\"\n",
    "        Then http status_is 404\n",
    "        \n",
    "        escapeto: Python\n",
    "            for x in range()"
   ]
  }
 ],
 "metadata": {
  "kernelspec": {
   "display_name": "Python 3",
   "language": "python",
   "name": "python3"
  },
  "language_info": {
   "codemirror_mode": {
    "name": "ipython",
    "version": 3
   },
   "file_extension": ".py",
   "mimetype": "text/x-python",
   "name": "python",
   "nbconvert_exporter": "python",
   "pygments_lexer": "ipython3",
   "version": "3.7.3"
  }
 },
 "nbformat": 4,
 "nbformat_minor": 4
}
