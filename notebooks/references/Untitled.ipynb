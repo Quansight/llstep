{
 "cells": [
  {
   "cell_type": "code",
   "execution_count": 3,
   "metadata": {},
   "outputs": [],
   "source": [
    "from llstep import step, script, Context\n",
    "from references import structure, config, TestStruct\n",
    "import logging\n",
    "import pytest\n",
    "logger = logging.getLogger()\n",
    "logger.setLevel(logging.DEBUG)"
   ]
  },
  {
   "cell_type": "code",
   "execution_count": 4,
   "metadata": {},
   "outputs": [
    {
     "name": "stderr",
     "output_type": "stream",
     "text": [
      "INFO:root:<class 'llstep._llstep.ContextKey'><class 'llstep._llstep.ContextKey'>\n"
     ]
    }
   ],
   "source": [
    "@step\n",
    "def add_data_structure():\n",
    "    \"\"\"\n",
    "    Below, I run tests that are configured to call functions\n",
    "    that belong to the dict method. These modify the dict.\n",
    "    \"\"\"\n",
    "    structure.revenue += 20\n",
    "    structure.books['Richard Feynmann'] = 'The Lectures on Physics Vol I'\n",
    "    structure.people.append('Travis Oliphant')\n",
    "    \n",
    "@step\n",
    "def add_data_config():\n",
    "    \"\"\"\n",
    "    config is a dict. Let's test a couple dict\n",
    "    methods to make sure things are working\n",
    "    \"\"\"\n",
    "    info = {'RAM':'32GB', 'Input':'Keyboard', 'processors':'2'}\n",
    "    config.update(info)\n",
    "    \n",
    "\n",
    "@step\n",
    "def before_data_inject():\n",
    "    # This is a test step\n",
    "    # showing how tests can be within a step\n",
    "    assert structure.revenue == 42\n",
    "    assert len(structure.books) == 1\n",
    "    assert len(structure.people) == 1\n",
    "\n",
    "@step\n",
    "def after_data_inject():\n",
    "    # This is the test suite for\n",
    "    # tests after data has been added\n",
    "    assert structure.revenue == 62\n",
    "    assert structure.books['Richard Feynmann'] == 'The Lectures on Physics Vol I'\n",
    "    assert structure.books['Douglas Adams'] == \"The Hitchhiker's Guide to the Galaxy\"\n",
    "    assert len(structure.books) == 2\n",
    "    assert len(structure.people) == 2\n",
    "    assert structure.people[0] == 'Arthur Dent'\n",
    "    assert config['OS'] == 'nix'\n",
    "    assert config['RAM'] == '32GB'\n",
    "\n",
    "@step\n",
    "def delete_data():\n",
    "    del structure.books['Richard Feynmann']\n",
    "    structure.revenue = 42\n",
    "    del structure.people[1]\n",
    "    del config['Input']\n",
    "\n",
    "@script\n",
    "def test_references(Structure, Config):\n",
    "    structure = Structure\n",
    "    config = Config\n",
    "    logging.info(f'{type(config)}{type(structure)}')\n",
    "    # Initialize structures\n",
    "    structure = TestStruct(42, {'Douglas Adams' : \"The Hitchhiker's Guide to the Galaxy\"}, ['Arthur Dent'])\n",
    "    config  = {'OS':'nix'}\n",
    "    # Run Prior Tests\n",
    "    before_data_inject()\n",
    "    # Update Data\n",
    "    add_data_structure()\n",
    "    add_data_config()\n",
    "    # Test After Updating\n",
    "    after_data_inject()\n",
    "    # Delete Data\n",
    "    delete_data()\n",
    "    # Finish testing in method\n",
    "    assert len(config) == 3\n",
    "    assert len(structure.people) == 1\n",
    "    assert structure.revenue == 42\n",
    "    assert len(structure.books) == 1\n",
    "    \n",
    "    \n",
    "\n",
    "test_references(structure, config)"
   ]
  },
  {
   "cell_type": "code",
   "execution_count": null,
   "metadata": {},
   "outputs": [],
   "source": []
  },
  {
   "cell_type": "code",
   "execution_count": null,
   "metadata": {},
   "outputs": [],
   "source": []
  }
 ],
 "metadata": {
  "kernelspec": {
   "display_name": "steps",
   "language": "python",
   "name": "steps"
  },
  "language_info": {
   "codemirror_mode": {
    "name": "ipython",
    "version": 3
   },
   "file_extension": ".py",
   "mimetype": "text/x-python",
   "name": "python",
   "nbconvert_exporter": "python",
   "pygments_lexer": "ipython3",
   "version": "3.7.3"
  }
 },
 "nbformat": 4,
 "nbformat_minor": 2
}
